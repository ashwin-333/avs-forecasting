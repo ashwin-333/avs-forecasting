{
 "cells": [
  {
   "cell_type": "code",
   "execution_count": 14,
   "metadata": {},
   "outputs": [
    {
     "name": "stdout",
     "output_type": "stream",
     "text": [
      "Batch 1\n",
      "Data shape: torch.Size([21262, 4])\n",
      "Sample data: tensor([[1.6741e+15, 1.7600e+02, 4.1000e+01, 0.0000e+00],\n",
      "        [1.6741e+15, 1.5900e+02, 2.5000e+01, 1.0000e+00],\n",
      "        [1.6741e+15, 5.3000e+01, 7.6000e+01, 1.0000e+00],\n",
      "        ...,\n",
      "        [1.6741e+15, 1.6200e+02, 1.0100e+02, 1.0000e+00],\n",
      "        [1.6741e+15, 2.7300e+02, 6.7000e+01, 1.0000e+00],\n",
      "        [1.6741e+15, 2.3900e+02, 5.0000e+00, 1.0000e+00]])\n",
      "Batch 2\n",
      "Data shape: torch.Size([26816, 4])\n",
      "Sample data: tensor([[1.6755e+15, 3.1400e+02, 6.6000e+01, 1.0000e+00],\n",
      "        [1.6755e+15, 1.5900e+02, 2.8000e+01, 1.0000e+00],\n",
      "        [1.6755e+15, 4.0000e+00, 1.7000e+01, 1.0000e+00],\n",
      "        ...,\n",
      "        [1.6755e+15, 8.7000e+01, 1.1000e+01, 1.0000e+00],\n",
      "        [1.6755e+15, 6.3000e+01, 5.0000e+00, 1.0000e+00],\n",
      "        [1.6755e+15, 3.8000e+01, 1.5300e+02, 1.0000e+00]])\n",
      "Batch 3\n",
      "Data shape: torch.Size([151342, 4])\n",
      "Sample data: tensor([[1.6767e+15, 8.9000e+01, 8.0000e+01, 1.0000e+00],\n",
      "        [1.6767e+15, 1.1300e+02, 2.4400e+02, 1.0000e+00],\n",
      "        [1.6767e+15, 1.1700e+02, 2.2200e+02, 0.0000e+00],\n",
      "        ...,\n",
      "        [1.6767e+15, 2.2600e+02, 3.0000e+01, 1.0000e+00],\n",
      "        [1.6767e+15, 2.2600e+02, 3.1000e+01, 1.0000e+00],\n",
      "        [1.6767e+15, 2.2600e+02, 4.4000e+01, 1.0000e+00]])\n",
      "Batch 4\n",
      "Data shape: torch.Size([8691, 4])\n",
      "Sample data: tensor([[1.6767e+15, 1.6400e+02, 1.7400e+02, 1.0000e+00],\n",
      "        [1.6767e+15, 7.1000e+01, 1.0700e+02, 1.0000e+00],\n",
      "        [1.6767e+15, 2.4500e+02, 1.8400e+02, 1.0000e+00],\n",
      "        ...,\n",
      "        [1.6767e+15, 6.0000e+00, 5.9000e+01, 0.0000e+00],\n",
      "        [1.6767e+15, 1.5100e+02, 1.5000e+02, 1.0000e+00],\n",
      "        [1.6767e+15, 7.0000e+00, 2.5600e+02, 0.0000e+00]])\n",
      "Batch 5\n",
      "Data shape: torch.Size([7609, 4])\n",
      "Sample data: tensor([[1.6767e+15, 6.7000e+01, 1.3300e+02, 1.0000e+00],\n",
      "        [1.6767e+15, 2.0700e+02, 1.1900e+02, 1.0000e+00],\n",
      "        [1.6767e+15, 3.0000e+02, 1.0100e+02, 1.0000e+00],\n",
      "        ...,\n",
      "        [1.6767e+15, 2.5700e+02, 2.5900e+02, 1.0000e+00],\n",
      "        [1.6767e+15, 1.8600e+02, 2.0700e+02, 0.0000e+00],\n",
      "        [1.6767e+15, 2.6000e+02, 1.7100e+02, 1.0000e+00]])\n"
     ]
    }
   ],
   "source": [
    "import numpy as np\n",
    "import torch\n",
    "from torch.utils.data import DataLoader\n",
    "import os\n",
    "import glob\n",
    "\n",
    "data_folder = \"./PEDRo-dataset/numpy/train\"\n",
    "file_paths = glob.glob(os.path.join(data_folder, \"*.npy\"))[:5]\n",
    "\n",
    "def load_npy_file(idx):\n",
    "    data = np.load(file_paths[idx])\n",
    "    return torch.tensor(data, dtype=torch.float32)\n",
    "\n",
    "dataset = [load_npy_file(i) for i in range(len(file_paths))]\n",
    "data_loader = DataLoader(dataset, batch_size=1, shuffle=True)\n",
    "\n",
    "for batch_idx, data_batch in enumerate(data_loader):\n",
    "    print(f\"Batch {batch_idx + 1}\")\n",
    "    print(\"Data shape:\", data_batch[0].shape)\n",
    "    print(\"Sample data:\", data_batch[0])\n"
   ]
  }
 ],
 "metadata": {
  "kernelspec": {
   "display_name": "Python 3",
   "language": "python",
   "name": "python3"
  },
  "language_info": {
   "codemirror_mode": {
    "name": "ipython",
    "version": 3
   },
   "file_extension": ".py",
   "mimetype": "text/x-python",
   "name": "python",
   "nbconvert_exporter": "python",
   "pygments_lexer": "ipython3",
   "version": "3.12.4"
  }
 },
 "nbformat": 4,
 "nbformat_minor": 2
}
